{
 "cells": [
  {
   "cell_type": "code",
   "execution_count": 2,
   "id": "fb027f8e-65bb-4ee3-93cc-6ebfb43c2ca5",
   "metadata": {},
   "outputs": [],
   "source": [
    "import os\n",
    "import pickle\n",
    "import mediapipe as mp\n",
    "import cv2\n",
    "\n",
    "# Initialiser la détection des mains\n",
    "mp_hands = mp.solutions.hands\n",
    "hands = mp_hands.Hands(static_image_mode=False, min_detection_confidence=0.5, max_num_hands=2)\n",
    "\n",
    "# Définir le répertoire de données\n",
    "DATA_DIR = './7images_test'\n",
    "data = []\n",
    "labels = []\n",
    "\n",
    "for dir_ in os.listdir(DATA_DIR):\n",
    "    for img_path in os.listdir(os.path.join(DATA_DIR, dir_)):\n",
    "        if not img_path.endswith(('.jpg', '.jpeg', '.png')):\n",
    "            continue  # Ignorer les fichiers qui ne sont pas des images\n",
    "\n",
    "        landmarks_right = []  # Coordonnées des landmarks de la main droite\n",
    "        landmarks_left = []  # Coordonnées des landmarks de la main gauche\n",
    "\n",
    "        img = cv2.imread(os.path.join(DATA_DIR, dir_, img_path))\n",
    "        img_rgb = cv2.cvtColor(img, cv2.COLOR_BGR2RGB)\n",
    "\n",
    "        results = hands.process(img_rgb)\n",
    "        if results.multi_hand_landmarks and len(results.multi_hand_landmarks) == 2:\n",
    "            for idx, hand_landmarks in enumerate(results.multi_hand_landmarks):\n",
    "                if results.multi_handedness[idx].classification[0].label == 'Left':\n",
    "                    for landmark in hand_landmarks.landmark:\n",
    "                        # Ajouter les coordonnées des landmarks de la main gauche\n",
    "                        landmarks_left.extend([landmark.x, landmark.y])\n",
    "                elif results.multi_handedness[idx].classification[0].label == 'Right':\n",
    "                    for landmark in hand_landmarks.landmark:\n",
    "                        # Ajouter les coordonnées des landmarks de la main droite\n",
    "                        landmarks_right.extend([landmark.x, landmark.y])\n",
    "\n",
    "            # Ajouter les coordonnées des landmarks de la main droite et gauche séparément\n",
    "            data.append({'right_hand': landmarks_right, 'left_hand': landmarks_left})\n",
    "            labels.append(dir_)\n",
    "\n",
    "# Sauvegarder les données\n",
    "with open('7images_test_separate.pickle', 'wb') as f:\n",
    "    pickle.dump({'data': data, 'labels': labels}, f)\n"
   ]
  },
  {
   "cell_type": "code",
   "execution_count": null,
   "id": "e3481d8f-64d8-4efb-bbed-cd80e82861a5",
   "metadata": {},
   "outputs": [],
   "source": []
  }
 ],
 "metadata": {
  "kernelspec": {
   "display_name": "Python 3 (ipykernel)",
   "language": "python",
   "name": "python3"
  },
  "language_info": {
   "codemirror_mode": {
    "name": "ipython",
    "version": 3
   },
   "file_extension": ".py",
   "mimetype": "text/x-python",
   "name": "python",
   "nbconvert_exporter": "python",
   "pygments_lexer": "ipython3",
   "version": "3.11.7"
  }
 },
 "nbformat": 4,
 "nbformat_minor": 5
}
